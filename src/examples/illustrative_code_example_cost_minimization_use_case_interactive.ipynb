{
 "cells": [
  {
   "cell_type": "markdown",
   "metadata": {},
   "source": [
    "# <span style='color:OrangeRed'>Illustrative Code Example (Energy Cost Minimization Use Case)</span>"
   ]
  },
  {
   "cell_type": "markdown",
   "metadata": {},
   "source": [
    "To complement the overview on the pycity_scheduling package's architecture and functionalities, this Jupyter Notebook interactively demonstrates basic capabilities and features of the framework. To this aim, we separate the core workflow of our software into three illustrative code examples which are in line with the different framework components \"scenario setup component\", \"power scheduling component\", and \"post-processing component\". In this context, the following three illustrative code examples represent a simple optimization-based energy cost minimization use case for the day-ahead planning of assets inside a multi-energy system."
   ]
  },
  {
   "cell_type": "markdown",
   "metadata": {},
   "source": [
    "## <span style='color:Gray'>#1 Scenario setup code example</span>"
   ]
  },
  {
   "cell_type": "markdown",
   "metadata": {},
   "source": [
    "The Python code below illustrates the typical workflow for the initial scenario setup step of the desired use case. According to this code, the user must always import all required modules from the pycity_scheduling framework and other third-party modules first, compare lines 1-3. Next and according to lines 5-8, the user must define an (pycity_base) Environment object to be used by the subsequent multi-energy system setup and modelling steps. The Environment object maintains general data, which is valid for all framework objects and which contains time, weather, and/or energy market price data information. For this reason, all objects in pycity_base/pycity_scheduling usually point to an Environment. In this example, we define our Timer object to maintain historical time data for one particular day, which is the 15th March of 2018, and hence we choose a time horizon of 24h with a hourly time discretisation, i.e., 3600 seconds. For the location of our multi-energy system, we instantiate the Weather object with the given coordinates for the city of Aachen, Germany. The Price object is instantiated without optional arguments, which makes the pycity_scheduling framework to automatically load historical energy market price data for Germany.\n",
    "\n",
    "In lines 10-12, the user can now instantiate and define the different assets and load components that are part of the multi-energy system under investigation. For the sake of exemplification, we define a FixedLoad object with an annual electrical energy demand of 3000kWh/a. The parameter profile_type is set to \"H0\", which refers the fixed load (i.e., the inflexible load) to follow the standard load profile characteristics of a residential single-family house. Further, we instantiate a Photovoltaic object as well as a Battery object in this example, which represent a photovoltaic unit of peak power 6kWp and a battery storage system of capacity 8.4kWh and charging/discharging power rate of 3.6kW, respectively. In the same way, other assets and loads present in the considered multi-energy system setup could be instantiated and added by the user.\n",
    "\n",
    "For demonstration purposes, we visualize some of the time series data obtained by the instantiated objects for the 15th March of 2018 in lines 14-25. As it can be seen, we can easily access these time series data by using predefined attributes of the different objects, such as p.da_prices representing the energy spot market day-ahead prices, fi.p_el_schedule representing the fixed load's power demand, and pv.p_el_supply representing the photovoltaic unit's power generation over time."
   ]
  },
  {
   "cell_type": "code",
   "execution_count": null,
   "metadata": {},
   "outputs": [],
   "source": [
    "import matplotlib.pyplot as plt\n",
    "from pycity_scheduling.classes import *\n",
    "from pycity_scheduling.algorithms import *"
   ]
  },
  {
   "cell_type": "code",
   "execution_count": null,
   "metadata": {},
   "outputs": [],
   "source": [
    "t = Timer(op_horizon=24, step_size=3600, initial_date=(2018, 3, 15), initial_time=(0, 0, 0))\n",
    "w = Weather(timer=t, location=(50.76, 6.07))\n",
    "p = Prices(timer=t)\n",
    "e = Environment(timer=t, weather=w, prices=p)"
   ]
  },
  {
   "cell_type": "code",
   "execution_count": null,
   "metadata": {},
   "outputs": [],
   "source": [
    "fi = FixedLoad(environment=e, method=1, annual_demand=3000.0, profile_type=\"H0\")\n",
    "pv = Photovoltaic(environment=e, method=1, peak_power=6.0)\n",
    "ba = Battery(environment=e, e_el_max=8.4, p_el_max_charge=3.6, p_el_max_discharge=3.6)"
   ]
  },
  {
   "cell_type": "code",
   "execution_count": null,
   "metadata": {},
   "outputs": [],
   "source": [
    "plot_time = list(range(t.timesteps_used_horizon))\n",
    "fig, axs = plt.subplots(1, 3)\n",
    "axs[0].plot(plot_time, p.da_prices, color=\"black\")\n",
    "axs[0].set_title(\"Day-ahead energy market prices [ct/kWh]\")\n",
    "axs[1].plot(plot_time, fi.p_el_schedule, color=\"black\")\n",
    "axs[1].set_title(\"Single-family house electrical load demand [kW]\")\n",
    "axs[2].plot(plot_time, pv.p_el_supply, color=\"black\")\n",
    "axs[2].set_title(\"Residential photovoltaics generation [kW]\")\n",
    "for ax in axs.flat:\n",
    "    ax.set(xlabel=\"Time [h]\", xlim=[0, t.timesteps_used_horizon-1])\n",
    "plt.show()"
   ]
  },
  {
   "cell_type": "markdown",
   "metadata": {},
   "source": [
    "## <span style='color:Gray'>#2 Power scheduling code example</span>"
   ]
  },
  {
   "cell_type": "markdown",
   "metadata": {},
   "source": [
    "To illustrate the power scheduling workflow step, we extend the scenario setup code example from the previous part. For this purpose, at first we define the hierarchy of our multi-energy setup according to the code stated in lines 27-35. This can be done in a straightforward way, in which we start with the instantiation of a Building object to which one we assign two different EntityContainer subobjects, namely an Apartment object and a BuildingEnergySystem object. The Apartment object takes and maintains energy devices that residents may own and operate on the individual apartment level such as the electrical load and the battery unit in our case, whereas the BuildingEnergySystem object takes and maintains energy devices that are usually installed on the global building level such as the photovoltaic unit.\n",
    "\n",
    "In the following step, we instantiate a CityDistrict object that can bundle a set of different buildings, but which is only one building in this code example for the sake of exemplification (compare lines 34-35). We further define the CityDistrict object to possess a price-driven optimization objective, as we want to perform an energy cost minimization in this example. However, we could also define the CityDistrict object (and if desired the Building object, too) to aim for an optimization objective other than energy cost instead, such as a peak-shaving or a low CO2 emission objective.\n",
    "\n",
    "The actual day-ahead power dispatch is performed in lines 37-39. In this step, we pass our CityDistrict object to the pre-available CentralOptimization optimization algorithm in line 37 and then call the Pyomo's underlying third-party optimization solver in line 38. As it can be seen, the mode parameter is set to \"integer\" in line 37, which makes the pycity_scheduling framework to use a modelling approach based on mixed-integer programming. Lastly, we can (temporally) store the optimal power schedules obtained by the optimization solver by calling the CityDistrict's copy_schedule function in line 39. As it can be seen, we tag those power schedules with \"optim_schedule\" here.\n"
   ]
  },
  {
   "cell_type": "code",
   "execution_count": null,
   "metadata": {},
   "outputs": [],
   "source": [
    "bd = Building(environment=e, objective=\"none\")\n",
    "bes = BuildingEnergySystem(environment=e)\n",
    "ap = Apartment(environment=e)\n",
    "bd.addMultipleEntities(entities=[bes, ap])\n",
    "bes.addDevice(objectInstance=pv)\n",
    "ap.addMultipleEntities(entities=[fi, ba])"
   ]
  },
  {
   "cell_type": "code",
   "execution_count": null,
   "metadata": {},
   "outputs": [],
   "source": [
    "cd = CityDistrict(environment=e, objective=\"price\")\n",
    "cd.addEntity(bd, position=(0, 0))"
   ]
  },
  {
   "cell_type": "code",
   "execution_count": null,
   "metadata": {},
   "outputs": [],
   "source": [
    "opt = CentralOptimization(city_district=cd, mode=\"integer\")\n",
    "res = opt.solve()\n",
    "cd.copy_schedule(dst=\"optim_schedule\")"
   ]
  },
  {
   "cell_type": "markdown",
   "metadata": {},
   "source": [
    "## <span style='color:Gray'>#3 Post-processing code example</span>"
   ]
  },
  {
   "cell_type": "markdown",
   "metadata": {},
   "source": [
    "The following code finalizes the overall workflow of this illustrative code example by demonstrating different post-processing functionalities of the pycity_scheduling framework. For this purpose, in a first step we import the framework's post-processing utilities \"metric\", \"plot_schedules\", and \"write_schedules\" as shown in lines 41-43.\n",
    "\n",
    "In a second step, we call the CityDistrict's load_schedule function in line 46 to load the previously stored power schedules as tagged with the identifier \"optim_schedule\".\n",
    "\n",
    "In a third step, we use the \"plot_entity\" functionality to plot the schedules of all optimization variables for the two objects of instance CityDistrict and Battery, where the schedules with the suffix \"p_el\" denote electrical power and \"e_el\" denote electrical energy, respectively. From the plots it becomes evident that the flexible battery device is scheduled in a way such that power is primarily imported from the energy spot market during cheap tariff periods, compare the price plot from the first part. This means that the battery unit is charged during these periods based on the defined energy cost minimization objective. Because of this behavior, low-cost electrical energy is temporarily stored inside the battery unit. Vice versa, the battery unit is discharged during expensive energy spot market tariff periods to supply the non-flexible building's electrical load locally during these periods. Moreover, one can see that the battery unit is also charged during time slots of high power penetration by the photovoltaic unit, compare the PV plot from the first part. This is because the locally generated photovoltaic energy is assumed to have zero energy costs, i.e., it can be perceived as free. The building's power self-consumption rate metric of approximately 67%, as evaluated in line 51, confirms this circumstance. The remaining 23% of photovoltaic power generation, however, cannot be consumed locally by the building, since the battery unit already operates at its physical charging power limit of 3.6kW. Finally and for further studies, we export the obtained schedules of the different multi-energy system assets into a JSON file named \"cost_otpim.json\" according to line 53.\n"
   ]
  },
  {
   "cell_type": "code",
   "execution_count": null,
   "metadata": {},
   "outputs": [],
   "source": [
    "from pycity_scheduling.util.metric import self_consumption\n",
    "from pycity_scheduling.util.plot_schedules import plot_entity\n",
    "from pycity_scheduling.util.write_schedules import schedule_to_json"
   ]
  },
  {
   "cell_type": "code",
   "execution_count": null,
   "metadata": {},
   "outputs": [],
   "source": [
    "cd.load_schedule(schedule=\"optim_schedule\")"
   ]
  },
  {
   "cell_type": "code",
   "execution_count": null,
   "metadata": {},
   "outputs": [],
   "source": [
    "plot_entity(entity=cd, schedule=[\"optim_schedule\"], title=\"City district - Cost-optimal schedules\")\n",
    "plot_entity(entity=ba, schedule=[\"optim_schedule\"], title=\"Battery unit - Cost-optimal schedules\")"
   ]
  },
  {
   "cell_type": "code",
   "execution_count": null,
   "metadata": {},
   "outputs": [],
   "source": [
    "print(self_consumption(entity=bd))"
   ]
  },
  {
   "cell_type": "code",
   "execution_count": null,
   "metadata": {},
   "outputs": [],
   "source": [
    "schedule_to_json(input_list=[fi, pv, ba], file_name=\"cost_optim.json\", schedule=[\"optim_schedule\"])"
   ]
  }
 ],
 "metadata": {
  "kernelspec": {
   "display_name": "Octave",
   "language": "octave",
   "name": "octave"
  },
  "language_info": {
   "file_extension": ".m",
   "help_links": [
    {
     "text": "GNU Octave",
     "url": "https://www.gnu.org/software/octave/support.html"
    },
    {
     "text": "Octave Kernel",
     "url": "https://github.com/Calysto/octave_kernel"
    },
    {
     "text": "MetaKernel Magics",
     "url": "https://metakernel.readthedocs.io/en/latest/source/README.html"
    }
   ],
   "mimetype": "text/x-octave",
   "name": "octave",
   "version": "4.2.2"
  }
 },
 "nbformat": 4,
 "nbformat_minor": 4
}
